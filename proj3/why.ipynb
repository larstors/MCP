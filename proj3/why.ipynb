{
 "cells": [
  {
   "cell_type": "code",
   "execution_count": 1,
   "metadata": {},
   "outputs": [],
   "source": [
    "import numpy as np\n",
    "import scipy as sc\n",
    "from numba import njit, jit\n",
    "from joblib import Parallel, delayed\n",
    "import matplotlib.pyplot as plt\n"
   ]
  },
  {
   "cell_type": "code",
   "execution_count": 7,
   "metadata": {},
   "outputs": [],
   "source": [
    "\n",
    "mass = 48\n",
    "N = 864"
   ]
  },
  {
   "cell_type": "code",
   "execution_count": 70,
   "metadata": {},
   "outputs": [
    {
     "name": "stdout",
     "output_type": "stream",
     "text": [
      "0.016\n",
      "0.032\n",
      "0.048\n",
      "0.064\n",
      "0.08\n",
      "0.096\n",
      "0.112\n",
      "0.128\n",
      "0.14400000000000002\n",
      "0.16000000000000003\n",
      "0.17600000000000005\n",
      "0.19200000000000006\n",
      "0.20800000000000007\n",
      "0.2240000000000001\n",
      "0.2400000000000001\n",
      "0.2560000000000001\n",
      "0.27200000000000013\n",
      "0.28800000000000014\n",
      "0.30400000000000016\n"
     ]
    }
   ],
   "source": [
    "def initialisation(T, rho):\n",
    "    M = (N/4)**(1/3)\n",
    "    L = (N/rho)**(1/3)\n",
    "    a = L/M\n",
    "    vel = np.random.normal(0, np.sqrt(T/mass), 3*N)\n",
    "\n",
    "    v0 = np.zeros(3)\n",
    "    for i in range(N):\n",
    "        v0 += vel[3*i:3*i+3]\n",
    "    v0 /= N\n",
    "\n",
    "    for i in range(N):\n",
    "        vel[3*i:3*i+3] -= v0\n",
    "    \n",
    "\n",
    "    x0 = np.zeros(3*N)\n",
    "\n",
    "    for j in range(12):\n",
    "        for k in range(12):\n",
    "            for l in range(6):\n",
    "                x0[3*(72*j + 6*k + l) + 2] = 1e-10 + j/2 * a + j%2*a/2\n",
    "                \n",
    "                if j%2==0:\n",
    "                    x0[3*(72*j + 6*k + l) + 0] = 1e-10 + (l * a + k%2 * a/2)\n",
    "                    x0[3*(72*j + 6*k + l) + 1] = 1e-10 + ((k)//2 * a + k%2*a/2)\n",
    "\n",
    "                else:\n",
    "                    x0[3*(72*j + 6*k + l) + 0] = 1e-10 + (l * a + k%2 * a/2) +(a/2 - k%2*a)\n",
    "                    x0[3*(72*j + 6*k + l) + 1] = 1e-10 + ((k)//2 * a + k%2*a/2)\n",
    "\n",
    "    return x0, vel, a, L\n",
    "\n",
    "@njit(fastmath=True)\n",
    "def melting(pos, a):\n",
    "    return np.sum(np.cos(4*np.pi/a * pos))\n",
    "\n",
    "@njit(fastmath=True)\n",
    "def dLJ(d):\n",
    "    return 48 * (d**(-13) -  0.5 * d**(-7))\n",
    "\n",
    "@njit(fastmath=True)\n",
    "def force(pos, L):\n",
    "    f = np.zeros(3*N)\n",
    "    for i in range(N):\n",
    "        for j in range(i+1, N):\n",
    "            r = np.ones(3)\n",
    "            for k in range(3):\n",
    "                r[k] = pos[3*j+k]\n",
    "                if abs(pos[3*i+k] - pos[3*j+k]) < L/2:\n",
    "                    r[k] = pos[3*j+k]\n",
    "                elif pos[3*i+k] - pos[3*j+k] > L/2:\n",
    "                    r[k] = pos[3*j +k] + L\n",
    "                elif pos[3*i+k] - pos[3*j+k] < -L/2:\n",
    "                    r[k] = pos[3*j +k] - L\n",
    "            d = np.linalg.norm(pos[3*i:3*i+3] - r)\n",
    "            f[3*i:3*i+3] += dLJ(d) * (pos[3*i:3*i+3] - r)/d\n",
    "            f[3*j:3*j+3] -= dLJ(d) * (pos[3*i:3*i+3] - r)/d\n",
    "\n",
    "    return f\n",
    "\n",
    "@njit(fastmath=True)\n",
    "def temp(vel):\n",
    "    t = 0\n",
    "    for i in range(N):\n",
    "        t+=np.linalg.norm(vel[3*i:3*i+3])**2\n",
    "    return mass * t / (3 * N)\n",
    "\n",
    "def vverlet(T, rho, tmax, h, tburn):\n",
    "    init = initialisation(T=T, rho=rho)\n",
    "    pos1 = init[0]\n",
    "    #pos2 = pos1\n",
    "    v1 = init[1]\n",
    "    a = init[2]\n",
    "    L = init[3]\n",
    "\n",
    "    Temp = []\n",
    "    time = []\n",
    "    melt = []\n",
    "\n",
    "    Temp.append(temp(v1))\n",
    "    time.append(0)\n",
    "    melt.append(melting(pos1, a))\n",
    "    t = 0\n",
    "    while t <= tmax:\n",
    "        t+=h\n",
    "        F = force(pos1, L)\n",
    "        v1 += h/(2*mass) * F\n",
    "        pos1 = pos1 + h * v1\n",
    "        F = force(pos1, L)\n",
    "        v1 += h/(2*mass) * F\n",
    "\n",
    "        x = np.argwhere(pos1 > L)\n",
    "        pos1[x] -= L\n",
    "        x = np.argwhere(pos1 < 0)\n",
    "        pos1[x] += L\n",
    "        print(t)\n",
    "        Temp.append(temp(v1))\n",
    "        time.append(t)\n",
    "        melt.append(melting(pos1, a))\n",
    "\n",
    "    return v1, time, Temp, melt\n",
    "\n",
    "\n",
    "v = vverlet(1.38, 0.55, 5, 0.016, 0)\n",
    "\n",
    "\n",
    "\n"
   ]
  },
  {
   "cell_type": "code",
   "execution_count": 67,
   "metadata": {},
   "outputs": [
    {
     "name": "stdout",
     "output_type": "stream",
     "text": [
      "1.3861365548327045\n"
     ]
    },
    {
     "data": {
      "image/png": "[encoded data removed]",
      "text/plain": [
       "<Figure size 432x288 with 1 Axes>"
      ]
     },
     "metadata": {
      "needs_background": "light"
     },
     "output_type": "display_data"
    }
   ],
   "source": [
    "print(v[2][0])\n",
    "\n",
    "plt.plot(v[1], v[2])\n",
    "plt.xlabel(\"t\")\n",
    "plt.ylabel(\"T\")\n",
    "plt.show()"
   ]
  },
  {
   "cell_type": "code",
   "execution_count": 68,
   "metadata": {},
   "outputs": [
    {
     "name": "stdout",
     "output_type": "stream",
     "text": [
      "2592.0\n"
     ]
    },
    {
     "data": {
      "image/png": "[encoded data removed]",
      "text/plain": [
       "<Figure size 432x288 with 1 Axes>"
      ]
     },
     "metadata": {
      "needs_background": "light"
     },
     "output_type": "display_data"
    }
   ],
   "source": [
    "print(v[3][0])\n",
    "\n",
    "plt.plot(v[1], v[3])\n",
    "plt.xlabel(\"t\")\n",
    "plt.ylabel(\"rho_k\")\n",
    "plt.show()"
   ]
  },
  {
   "cell_type": "code",
   "execution_count": 69,
   "metadata": {},
   "outputs": [
    {
     "data": {
      "image/png": "[encoded data removed]",
      "text/plain": [
       "<Figure size 432x288 with 4 Axes>"
      ]
     },
     "metadata": {
      "needs_background": "light"
     },
     "output_type": "display_data"
    }
   ],
   "source": [
    "\n",
    "f, ax = plt.subplots(nrows=2, ncols=2)\n",
    "\n",
    "ax[0, 0].hist(v[0][::3], bins=30)\n",
    "ax[1, 0].hist(v[0][1::3], bins=30)\n",
    "ax[0, 1].hist(v[0][2::3], bins=30)\n",
    "plt.show()"
   ]
  },
  {
   "cell_type": "code",
   "execution_count": 13,
   "metadata": {},
   "outputs": [
    {
     "name": "stdout",
     "output_type": "stream",
     "text": [
      "[3. 5. 7. 5. 6.]\n",
      "[[0]\n",
      " [1]\n",
      " [3]]\n",
      "[13. 15.  7. 15.  6.]\n"
     ]
    }
   ],
   "source": [
    "a = np.array([1, 2, 3, 4, 5])\n",
    "b = np.array([2, 3, 4, 1, 1])\n",
    "c = np.ones(5)\n",
    "\n",
    "c[:] = a[:] + b[:]\n",
    "print(c)\n",
    "\n",
    "x = np.argwhere(c < 6)\n",
    "print(x)\n",
    "\n",
    "c[x] += 10\n",
    "\n",
    "print(c)"
   ]
  },
  {
   "cell_type": "code",
   "execution_count": null,
   "metadata": {},
   "outputs": [],
   "source": []
  }
 ],
 "metadata": {
  "kernelspec": {
   "display_name": "Python 3.8.5 ('base')",
   "language": "python",
   "name": "python3"
  },
  "language_info": {
   "codemirror_mode": {
    "name": "ipython",
    "version": 3
   },
   "file_extension": ".py",
   "mimetype": "text/x-python",
   "name": "python",
   "nbconvert_exporter": "python",
   "pygments_lexer": "ipython3",
   "version": "3.8.5"
  },
  "orig_nbformat": 4,
  "vscode": {
   "interpreter": {
    "hash": "e5ff61e0bd924eb5951a5ebda66fd231846b676ebb29b4136ed0d031a5290f33"
   }
  }
 },
 "nbformat": 4,
 "nbformat_minor": 2
}
