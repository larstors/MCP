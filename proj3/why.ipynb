{
 "cells": [
  {
   "cell_type": "code",
   "execution_count": 1,
   "metadata": {},
   "outputs": [],
   "source": [
    "import numpy as np\n",
    "import scipy as sc\n",
    "from numba import njit, jit\n",
    "from joblib import Parallel, delayed\n",
    "import matplotlib.pyplot as plt\n"
   ]
  },
  {
   "cell_type": "code",
   "execution_count": 2,
   "metadata": {},
   "outputs": [],
   "source": [
    "\n",
    "mass = 48\n",
    "N = 864"
   ]
  },
  {
   "cell_type": "code",
   "execution_count": 4,
   "metadata": {},
   "outputs": [],
   "source": [
    "def initialisation(T, rho):\n",
    "    M = (N/4)**(1/3)\n",
    "    L = (N/rho)**(1/3)\n",
    "    a = L/M\n",
    "    vel = np.random.normal(0, np.sqrt(T/mass), 3*N)\n",
    "\n",
    "    v0 = np.zeros(3)\n",
    "    for i in range(N):\n",
    "        v0 += vel[3*i:3*i+3]\n",
    "    v0 /= N\n",
    "\n",
    "    for i in range(N):\n",
    "        vel[3*i:3*i+3] -= v0\n",
    "    \n",
    "\n",
    "    x0 = np.zeros(3*N)\n",
    "\n",
    "    for j in range(12):\n",
    "        for k in range(12):\n",
    "            for l in range(6):\n",
    "                x0[3*(72*j + 6*k + l) + 2] = 1e-10 + j/2 * a + j%2*a/2\n",
    "                \n",
    "                if j%2==0:\n",
    "                    x0[3*(72*j + 6*k + l) + 0] = 1e-10 + (l * a + k%2 * a/2)\n",
    "                    x0[3*(72*j + 6*k + l) + 1] = 1e-10 + ((k)//2 * a + k%2*a/2)\n",
    "\n",
    "                else:\n",
    "                    x0[3*(72*j + 6*k + l) + 0] = 1e-10 + (l * a + k%2 * a/2) +(a/2 - k%2*a)\n",
    "                    x0[3*(72*j + 6*k + l) + 1] = 1e-10 + ((k)//2 * a + k%2*a/2)\n",
    "\n",
    "    return x0, vel, a, L\n",
    "\n",
    "@njit(fastmath=True)\n",
    "def melting(pos, a):\n",
    "    return np.sum(np.cos(4*np.pi/a * pos))\n",
    "\n",
    "@njit(fastmath=True)\n",
    "def dLJ(d):\n",
    "    return 48 * (d**(-14) -  0.5 * d**(-8))\n",
    "\n",
    "@njit(fastmath=True)\n",
    "def gradientLJ(d):\n",
    "    return -48 * (d**(-13) -  0.5 * d**(-7))\n",
    "\n",
    "@njit(fastmath=True)\n",
    "def force(pos, L, vel, rho, check=0):\n",
    "    f = np.zeros(3*N)\n",
    "    g = np.zeros(50)\n",
    "    p = 0\n",
    "    dpressure = 0\n",
    "    if check == 0:\n",
    "        for i in range(N):\n",
    "            for j in range(i+1, N):\n",
    "                r = np.ones(3)\n",
    "                for k in range(3):\n",
    "                    r[k] = pos[3*j+k]\n",
    "                    if abs(pos[3*i+k] - pos[3*j+k]) < L/2:\n",
    "                        r[k] = pos[3*j+k]\n",
    "                    elif pos[3*i+k] - pos[3*j+k] > L/2:\n",
    "                        r[k] = pos[3*j +k] + L\n",
    "                    elif pos[3*i+k] - pos[3*j+k] < -L/2:\n",
    "                        r[k] = pos[3*j +k] - L\n",
    "\n",
    "                d = np.linalg.norm(pos[3*i:3*i+3] - r)\n",
    "                dpressure+= d * gradientLJ(d)\n",
    "                if (d < 2.5):\n",
    "                    for p in range(50):\n",
    "                        if d > p*0.05 and d <= (p+1)*0.05:\n",
    "                            g[p] +=1\n",
    "                            break\n",
    "                    \n",
    "                    f[3*i:3*i+3] += dLJ(d) * (pos[3*i:3*i+3] - r)\n",
    "                    f[3*j:3*j+3] -= dLJ(d) * (pos[3*i:3*i+3] - r)\n",
    "    # elif check != 0:\n",
    "    #     for i in range(N):\n",
    "    #         for j in array[i]:\n",
    "    #             r = np.ones(3)\n",
    "    #             for k in range(3):\n",
    "    #                 r[k] = pos[3*j+k]\n",
    "    #                 if abs(pos[3*i+k] - pos[3*j+k]) < L/2:\n",
    "    #                     r[k] = pos[3*j+k]\n",
    "    #                 elif pos[3*i+k] - pos[3*j+k] > L/2:\n",
    "    #                     r[k] = pos[3*j +k] + L\n",
    "    #                 elif pos[3*i+k] - pos[3*j+k] < -L/2:\n",
    "    #                     r[k] = pos[3*j +k] - L\n",
    "    #             d = np.linalg.norm(pos[3*i:3*i+3] - r)\n",
    "    #             if (d < 2.5):\n",
    "    #                 f[3*i:3*i+3] += dLJ(d) * (pos[3*i:3*i+3] - r)/d\n",
    "    #                 f[3*j:3*j+3] -= dLJ(d) * (pos[3*i:3*i+3] - r)/d\n",
    "    return f, g, dpressure, 1 - 1/(3*N*temp(vel)) * dpressure - 2*np.pi*rho/(3*temp(vel)) * ( - 48.0/9.0 * 2.5**(-9) + 8.0 * 2.5**(-3))\n",
    "\n",
    "    \n",
    "\n",
    "\n",
    "def table(pos, L):\n",
    "    x = []\n",
    "    for i in range(N):\n",
    "        y = []\n",
    "        for j in range(i+1, N):\n",
    "            r = np.ones(3)\n",
    "            for k in range(3):\n",
    "                r[k] = pos[3*j+k]\n",
    "                if abs(pos[3*i+k] - pos[3*j+k]) < L/2:\n",
    "                    r[k] = pos[3*j+k]\n",
    "                elif pos[3*i+k] - pos[3*j+k] > L/2:\n",
    "                    r[k] = pos[3*j +k] + L\n",
    "                elif pos[3*i+k] - pos[3*j+k] < -L/2:\n",
    "                    r[k] = pos[3*j +k] - L\n",
    "            d = np.linalg.norm(pos[3*i:3*i+3] - r)\n",
    "            if (d < 3.3):\n",
    "                y.append(j)\n",
    "        x.append(y)\n",
    "    return x\n",
    "\n",
    "\n",
    "@njit(fastmath=True)\n",
    "def temp(vel):\n",
    "    t = 0\n",
    "    for i in range(N):\n",
    "        t+=np.linalg.norm(vel[3*i:3*i+3])**2\n",
    "    return mass * t / (3 * N)\n",
    "\n",
    "@njit(fastmath=True)\n",
    "def pressure(pos, L, vel):\n",
    "    dpressure = 0\n",
    "    for i in range(N):\n",
    "        for j in range(i+1, N):\n",
    "            r = np.ones(3)\n",
    "            for k in range(3):\n",
    "                r[k] = pos[3*j+k]\n",
    "                if abs(pos[3*i+k] - pos[3*j+k]) < L/2:\n",
    "                    r[k] = pos[3*j+k]\n",
    "                elif pos[3*i+k] - pos[3*j+k] > L/2:\n",
    "                    r[k] = pos[3*j +k] + L\n",
    "                elif pos[3*i+k] - pos[3*j+k] < -L/2:\n",
    "                    r[k] = pos[3*j +k] - L\n",
    "\n",
    "            d = np.linalg.norm(pos[3*i:3*i+3] - r)\n",
    "            dpressure+= d * gradientLJ(d)\n",
    "\n",
    "\n",
    "    return dpressure, 1 - 1/(3*N*temp(vel)) * dpressure - 2*np.pi/(3*temp(vel)) * ( - 48.0/9.0 * 2.5**(-9) + 8.0 * 2.5**(-3))\n",
    "\n",
    "#@njit(fastmath=True)\n",
    "def msd(ipos, cpos):\n",
    "    m = 0\n",
    "    m = np.linalg.norm(ipos - cpos)**2\n",
    "\n",
    "    return m/N\n",
    "\n",
    "def vverlet(T, rho, tmax, h, tburn, check=0, l=16, ad=1):\n",
    "    init = initialisation(T=T, rho=rho)\n",
    "    pos1 = init[0]\n",
    "    #pos2 = pos1\n",
    "    v1 = init[1]\n",
    "    a = init[2]\n",
    "    L = init[3]\n",
    "\n",
    "    print(a, L)\n",
    "\n",
    "    Temp = []\n",
    "    time = []\n",
    "    melt = []\n",
    "    press = []\n",
    "    dp = []\n",
    "    g = np.zeros(50)\n",
    "    Temp.append(temp(v1))\n",
    "    time.append(0)\n",
    "    melt.append(melting(pos1, a))\n",
    "    t = 0\n",
    "    c = 0\n",
    "\n",
    "    iterations = 0\n",
    "    while t <= tmax:\n",
    "        t+=h\n",
    "\n",
    "        F = force(pos1, L, v1, rho)\n",
    "        v1 += h/(2*mass) * F[0]\n",
    "        pos1 = pos1 + h * v1\n",
    "        x = np.argwhere(pos1 > L)\n",
    "        pos1[x] -= L\n",
    "        x = np.argwhere(pos1 < 0)\n",
    "        pos1[x] += L\n",
    "        F = force(pos1, L, v1, rho)\n",
    "        v1 += h/(2*mass) * F[0]\n",
    "\n",
    "        \n",
    "\n",
    "        if ad == 1 and c > 0 and c%20==0:\n",
    "            v1 *= np.sqrt(T/temp(v1))\n",
    "        F = force(pos1, L, v1, rho)\n",
    "        p = F[1]\n",
    "        print(\"Time: \", t, \"max force \", F[0].max())\n",
    "        print(\"Pressure: \", F[3], \" with thingy \", - F[2]*1/(3*N*temp(v1)), \" extra thingy \", 1 - 2*np.pi/(3*temp(v1)) * ( - 48.0/9.0 * 2.5**(-9) + 8.0 * 2.5**(-3)))\n",
    "        Temp.append(temp(v1))\n",
    "        time.append(t)\n",
    "        melt.append(melting(pos1, a))\n",
    "        press.append(F[3])\n",
    "        dp.append(F[2])\n",
    "        if t > tburn:\n",
    "            iterations+=1\n",
    "            g += p\n",
    "\n",
    "        c+=1\n",
    "    \n",
    "    for i in range(50):\n",
    "        g[i] /= iterations * 4*np.pi*0.05*((i+1)*0.05)**2*rho\n",
    "\n",
    "    return v1, time, Temp, melt, g, dp, press, pos1\n",
    "\n",
    "\n",
    "\n",
    "\n",
    "\n",
    "\n"
   ]
  },
  {
   "cell_type": "code",
   "execution_count": 5,
   "metadata": {},
   "outputs": [
    {
     "name": "stdout",
     "output_type": "stream",
     "text": [
      "1.709975946676697 10.25985568006018\n",
      "Time:  0.016 max force  102.74109957207826\n",
      "Pressure:  171.13687607514314  with thingy  171.03175134371298  extra thingy  -0.118594085712308\n",
      "Time:  0.032 max force  201.8544427313874\n",
      "Pressure:  187.37746055735178  with thingy  187.3546388012952  extra thingy  -0.22147280492930044\n",
      "Time:  0.048 max force  288.218064916612\n",
      "Pressure:  213.28507650089847  with thingy  213.39355408085189  extra thingy  -0.3855969749417867\n",
      "Time:  0.064 max force  349.9340918257257\n",
      "Pressure:  242.5675177124314  with thingy  242.82441735604593  extra thingy  -0.5711245545181804\n",
      "Time:  0.08 max force  376.0589557076045\n",
      "Pressure:  260.5584515808521  with thingy  260.90658689007233  extra thingy  -0.6851691365252395\n",
      "Time:  0.096 max force  362.1072733715559\n",
      "Pressure:  253.57327899707334  with thingy  253.88610981727885  extra thingy  -0.6410385252568644\n",
      "Time:  0.112 max force  312.8231425306748\n",
      "Pressure:  225.808343302747  with thingy  225.98056645509772  extra thingy  -0.46527894043836304\n",
      "Time:  0.128 max force  239.52964849857386\n",
      "Pressure:  193.14432224025668  with thingy  193.15109228817357  extra thingy  -0.258462559896119\n",
      "Time:  0.14400000000000002 max force  194.57025311330247\n",
      "Pressure:  165.95036340420586  with thingy  165.81938466947645  extra thingy  -0.08627658158824891\n",
      "Time:  0.16000000000000003 max force  176.68334492608145\n",
      "Pressure:  146.44306090072016  with thingy  146.2132824284517  extra thingy  0.0372230903355939\n",
      "Time:  0.17600000000000005 max force  172.02293757913193\n",
      "Pressure:  133.06808873078052  with thingy  132.77059324957352  extra thingy  0.12186935150877587\n",
      "Time:  0.19200000000000006 max force  218.6374322357383\n",
      "Pressure:  123.27882087335232  with thingy  122.9317913311515  extra thingy  0.18378692775101169\n",
      "Time:  0.20800000000000007 max force  251.12817886679892\n",
      "Pressure:  114.55764525588593  with thingy  114.16650586052515  extra thingy  0.2389242442009767\n",
      "Time:  0.2240000000000001 max force  259.9444345479288\n",
      "Pressure:  105.01913323042855  with thingy  104.57974737622274  extra thingy  0.2992323177572641\n",
      "Time:  0.2400000000000001 max force  265.6880167436887\n",
      "Pressure:  93.96988235746527  with thingy  93.4745905071462  extra thingy  0.36911481289885517\n",
      "Time:  0.2560000000000001 max force  297.1249021347143\n",
      "Pressure:  81.9710490020592  with thingy  81.41502874523898  extra thingy  0.4450253210252866\n",
      "Time:  0.27200000000000013 max force  299.3033719356292\n",
      "Pressure:  70.173068486794  with thingy  69.55732672909441  extra thingy  0.5196771971244969\n",
      "Time:  0.28800000000000014 max force  269.2837257158721\n",
      "Pressure:  59.51523929738897  with thingy  58.84554715373264  extra thingy  0.587115179570431\n",
      "Time:  0.30400000000000016 max force  230.32906545481396\n",
      "Pressure:  50.39688785072197  with thingy  49.68104571597415  extra thingy  0.6448026684347682\n",
      "Time:  0.3200000000000002 max force  242.14777201936005\n",
      "Pressure:  42.7849038447305  with thingy  42.03054873087427  extra thingy  0.6929438923202926\n",
      "Time:  0.3360000000000002 max force  249.86967155761587\n",
      "Pressure:  142.97600166078226  with thingy  142.83152335345437  extra thingy  -0.069402115840133\n",
      "Time:  0.3520000000000002 max force  251.89525268233803\n",
      "Pressure:  108.06585476317889  with thingy  107.72062543525934  extra thingy  0.18153665989943923\n",
      "Time:  0.3680000000000002 max force  252.22730756020403\n",
      "Pressure:  82.80066750214763  with thingy  82.31015054973471  extra thingy  0.36314619051614794\n",
      "Time:  0.38400000000000023 max force  250.087177080499\n",
      "Pressure:  64.39547768090846  with thingy  63.799129132581676  extra thingy  0.49543568540848915\n",
      "Time:  0.40000000000000024 max force  244.86164347972436\n",
      "Pressure:  50.83660509761764  with thingy  50.16230532317444  extra thingy  0.5928747180540167\n",
      "Time:  0.41600000000000026 max force  238.4451920134609\n",
      "Pressure:  40.701529434135544  with thingy  39.968980097864765  extra thingy  0.6656866703384772\n",
      "Time:  0.4320000000000003 max force  232.61725756318904\n",
      "Pressure:  32.99788392158174  with thingy  32.221079963447536  extra thingy  0.7210049476677525\n",
      "Time:  0.4480000000000003 max force  230.83566775303254\n",
      "Pressure:  27.038095703803794  with thingy  26.227077034398302  extra thingy  0.7637733367568673\n",
      "Time:  0.4640000000000003 max force  234.8165618591114\n",
      "Pressure:  22.34735580727159  with thingy  21.509430285269527  extra thingy  0.7974069025025806\n",
      "Time:  0.4800000000000003 max force  236.5484453919142\n",
      "Pressure:  18.59780652853226  with thingy  17.73839490369959  extra thingy  0.8242645310408334\n",
      "Time:  0.49600000000000033 max force  235.7769572785136\n",
      "Pressure:  15.56203539536002  with thingy  14.685249138493816  extra thingy  0.8459828210827526\n",
      "Time:  0.5120000000000003 max force  232.39387989943972\n",
      "Pressure:  13.08047801697404  with thingy  12.1895098684154  extra thingy  0.8637101856982994\n",
      "Time:  0.5280000000000004 max force  226.43228844210728\n",
      "Pressure:  11.038891710081838  with thingy  10.136276726832916  extra thingy  0.8782687290611515\n",
      "Time:  0.5440000000000004 max force  227.18447611715862\n",
      "Pressure:  9.353222072270142  with thingy  8.441011658075073  extra thingy  0.8902630177438369\n",
      "Time:  0.5600000000000004 max force  229.2977862882062\n",
      "Pressure:  7.959806564122111  with thingy  7.039686130481889  extra thingy  0.9001505420502763\n",
      "Time:  0.5760000000000004 max force  259.92422673338683\n",
      "Pressure:  6.809182719793515  with thingy  5.882553559873476  extra thingy  0.90828644990005\n",
      "Time:  0.5920000000000004 max force  625.3602393798844\n",
      "Pressure:  5.861712385963094  with thingy  4.92974775667765  extra thingy  0.9149557866068059\n",
      "Time:  0.6080000000000004 max force  1106.7311734092664\n",
      "Pressure:  5.08318695035785  with thingy  4.146861813758706  extra thingy  0.9204064207489298\n",
      "Time:  0.6240000000000004 max force  1454.0403352703538\n",
      "Pressure:  4.441360275797639  with thingy  3.501462176433939  extra thingy  0.9248726242046269\n",
      "Time:  0.6400000000000005 max force  1348.5747309356975\n",
      "Pressure:  3.910204068212569  with thingy  2.9673708364765274  extra thingy  0.9285415396700519\n",
      "Time:  0.6560000000000005 max force  1348.4444450216492\n",
      "Pressure:  39.662360612348  with thingy  39.517882305020116  extra thingy  -0.06940211584013323\n",
      "Time:  0.6720000000000005 max force  1221.565052209065\n",
      "Pressure:  32.66618078700695  with thingy  32.391900500670296  extra thingy  0.09285035792082286\n",
      "Time:  0.6880000000000005 max force  894.6821788686516\n",
      "Pressure:  26.53148720789577  with thingy  26.14300761089281  extra thingy  0.2355994962537007\n",
      "Time:  0.7040000000000005 max force  630.2653408213058\n",
      "Pressure:  21.72575204507073  with thingy  21.24769180037996  extra thingy  0.3475753058634614\n",
      "Time:  0.7200000000000005 max force  400.1477045281378\n",
      "Pressure:  18.09817690944498  with thingy  17.552535432404014  extra thingy  0.4320518463012094\n",
      "Time:  0.7360000000000005 max force  284.0442608810217\n",
      "Pressure:  15.33350484921242  with thingy  14.736450507434302  extra thingy  0.49631792722264834\n",
      "Time:  0.7520000000000006 max force  266.00291826887\n",
      "Pressure:  13.174867752419688  with thingy  12.537763728959785  extra thingy  0.5463800293248784\n",
      "Time:  0.7680000000000006 max force  237.2624213822169\n",
      "Pressure:  11.449797361768487  with thingy  10.780768076456493  extra thingy  0.586286606639994\n",
      "Time:  0.7840000000000006 max force  207.03771146554666\n",
      "Pressure:  10.046030363115728  with thingy  9.351091763355035  extra thingy  0.6186732497008642\n",
      "Time:  0.8000000000000006 max force  216.5424756162465\n",
      "Pressure:  8.888637572477602  with thingy  8.172400560922982  extra thingy  0.6452962644432747\n",
      "Time:  0.8160000000000006 max force  219.44248871421328\n",
      "Pressure:  7.925612209615353  with thingy  7.1917143169279205  extra thingy  0.6673723658592888\n",
      "Time:  0.8320000000000006 max force  215.23175953468723\n",
      "Pressure:  7.119535654854766  with thingy  6.3709155053283  extra thingy  0.6857751869080826\n",
      "Time:  0.8480000000000006 max force  204.33272136370704\n",
      "Pressure:  6.442647863469765  with thingy  5.68172655419505  extra thingy  0.701151636593394\n",
      "Time:  0.8640000000000007 max force  187.96248500529384\n",
      "Pressure:  5.873785391375808  with thingy  5.102589794423226  extra thingy  0.7139944961907271\n",
      "Time:  0.8800000000000007 max force  167.83880439056736\n",
      "Pressure:  5.396427782950866  with thingy  4.616677179189981  extra thingy  0.7246882547011074\n",
      "Time:  0.8960000000000007 max force  178.08307818458977\n",
      "Pressure:  4.997408701365146  with thingy  4.210577196751185  extra thingy  0.7335393807674508\n",
      "Time:  0.9120000000000007 max force  191.23909207929512\n",
      "Pressure:  4.666038680718755  with thingy  3.8734008916444695  extra thingy  0.7407972363428561\n",
      "Time:  0.9280000000000007 max force  194.67553433980783\n",
      "Pressure:  4.393498871628515  with thingy  3.5961645085831004  extra thingy  0.7466679538067689\n",
      "Time:  0.9440000000000007 max force  203.93895636730028\n",
      "Pressure:  4.1723755769162345  with thingy  3.371315316886353  extra thingy  0.7513253250373524\n",
      "Time:  0.9600000000000007 max force  230.76826259756385\n",
      "Pressure:  3.996289739249875  with thingy  3.1923539355282  extra thingy  0.7549197546520932\n",
      "Time:  0.9760000000000008 max force  249.46019722484726\n",
      "Pressure:  13.615096669248413  with thingy  13.470618361920518  extra thingy  -0.069402115840133\n",
      "Time:  0.9920000000000008 max force  250.02629499932186\n",
      "Pressure:  13.103975338405295  with thingy  12.939610945435778  extra thingy  -0.04454450878810223\n",
      "Time:  1.0080000000000007 max force  239.15655352116488\n",
      "Pressure:  12.458933382068519  with thingy  12.268608266759253  extra thingy  -0.012093605863415124\n"
     ]
    }
   ],
   "source": [
    "v = vverlet(1.0, 0.8, 1, 0.016, 0.1)"
   ]
  },
  {
   "cell_type": "code",
   "execution_count": 7,
   "metadata": {},
   "outputs": [
    {
     "name": "stdout",
     "output_type": "stream",
     "text": [
      "0.8621106336771241\n"
     ]
    }
   ],
   "source": [
    "\n",
    "def dist(pos, L, check=0):\n",
    "    d = []\n",
    "    f = np.zeros(3*N)\n",
    "    g = np.zeros(50)\n",
    "    p = 0\n",
    "    dpressure = 0\n",
    "    if check == 0:\n",
    "        for i in range(N):\n",
    "            for j in range(i+1, N):\n",
    "                r = np.ones(3)\n",
    "                for k in range(3):\n",
    "                    r[k] = pos[3*j+k]\n",
    "                    if abs(pos[3*i+k] - pos[3*j+k]) < L/2:\n",
    "                        r[k] = pos[3*j+k]\n",
    "                    elif pos[3*i+k] - pos[3*j+k] > L/2:\n",
    "                        r[k] = pos[3*j +k] + L\n",
    "                    elif pos[3*i+k] - pos[3*j+k] < -L/2:\n",
    "                        r[k] = pos[3*j +k] - L\n",
    "\n",
    "                d.append( np.linalg.norm(pos[3*i:3*i+3] - r))\n",
    "    return d\n",
    "\n",
    "print(min(dist(v[-1], 10.25985568006018)))\n",
    "    "
   ]
  },
  {
   "cell_type": "code",
   "execution_count": 26,
   "metadata": {},
   "outputs": [
    {
     "data": {
      "image/png": "[encoded data removed]",
      "text/plain": [
       "<Figure size 640x480 with 1 Axes>"
      ]
     },
     "metadata": {},
     "output_type": "display_data"
    }
   ],
   "source": [
    "time = v[1]\n",
    "pressure = v[-1]\n",
    "\n",
    "plt.plot(time[1:], pressure, label=r\"$\\rho/(Nk_BT)$\")\n",
    "plt.plot(time, np.ones_like(time)*1.31)\n",
    "plt.plot(time, v[2], label=\"T\")\n",
    "plt.plot(time, np.ones_like(time)*1.0)\n",
    "plt.xlabel(r\"$t$\")\n",
    "plt.ylabel(\"Pressure and Temperature\")\n",
    "plt.legend()\n",
    "plt.yscale(\"log\")\n"
   ]
  },
  {
   "cell_type": "code",
   "execution_count": 28,
   "metadata": {},
   "outputs": [
    {
     "data": {
      "text/plain": [
       "[<matplotlib.lines.Line2D at 0x13b80650160>]"
      ]
     },
     "execution_count": 28,
     "metadata": {},
     "output_type": "execute_result"
    },
    {
     "data": {
      "image/png": "[encoded data removed]",
      "text/plain": [
       "<Figure size 432x288 with 1 Axes>"
      ]
     },
     "metadata": {
      "needs_background": "light"
     },
     "output_type": "display_data"
    }
   ],
   "source": [
    "k = []\n",
    "for i in range(50):\n",
    "    k.append((i+1/2)*0.05)\n",
    "\n",
    "plt.plot(k, v[-1])"
   ]
  },
  {
   "cell_type": "code",
   "execution_count": 13,
   "metadata": {},
   "outputs": [
    {
     "name": "stdout",
     "output_type": "stream",
     "text": [
      "50.0\n"
     ]
    }
   ],
   "source": [
    "print(2.5/0.05)"
   ]
  },
  {
   "cell_type": "code",
   "execution_count": 14,
   "metadata": {},
   "outputs": [
    {
     "data": {
      "image/png": "[encoded data removed]",
      "text/plain": [
       "<Figure size 432x288 with 1 Axes>"
      ]
     },
     "metadata": {
      "needs_background": "light"
     },
     "output_type": "display_data"
    }
   ],
   "source": [
    "init_v = initialisation(1.38, 0.55)[1]\n",
    "cinit = np.genfromtxt(\"test.txt\", delimiter=\" \").flatten()\n",
    "\n",
    "plt.hist(cinit[::3], bins=30)\n",
    "plt.hist(init_v[::3], bins=30)\n",
    "\n",
    "plt.show()"
   ]
  },
  {
   "cell_type": "code",
   "execution_count": 16,
   "metadata": {},
   "outputs": [
    {
     "name": "stdout",
     "output_type": "stream",
     "text": [
      "0.5138685559973067\n"
     ]
    },
    {
     "data": {
      "image/png": "[encoded data removed]",
      "text/plain": [
       "<Figure size 432x288 with 1 Axes>"
      ]
     },
     "metadata": {
      "needs_background": "light"
     },
     "output_type": "display_data"
    }
   ],
   "source": [
    "print(v[2][0])\n",
    "\n",
    "plt.plot(v[1], v[2])\n",
    "plt.yscale(\"log\")\n",
    "plt.xlabel(\"t\")\n",
    "plt.ylabel(\"T\")\n",
    "plt.show()"
   ]
  },
  {
   "cell_type": "code",
   "execution_count": 17,
   "metadata": {},
   "outputs": [
    {
     "name": "stdout",
     "output_type": "stream",
     "text": [
      "2592.0\n"
     ]
    },
    {
     "data": {
      "image/png": "[encoded data removed]",
      "text/plain": [
       "<Figure size 432x288 with 1 Axes>"
      ]
     },
     "metadata": {
      "needs_background": "light"
     },
     "output_type": "display_data"
    }
   ],
   "source": [
    "print(v[3][0])\n",
    "\n",
    "plt.plot(v[1], v[3])\n",
    "plt.xlabel(\"t\")\n",
    "plt.ylabel(\"rho_k\")\n",
    "plt.show()"
   ]
  },
  {
   "cell_type": "code",
   "execution_count": 18,
   "metadata": {},
   "outputs": [
    {
     "data": {
      "image/png": "[encoded data removed]",
      "text/plain": [
       "<Figure size 432x288 with 4 Axes>"
      ]
     },
     "metadata": {
      "needs_background": "light"
     },
     "output_type": "display_data"
    }
   ],
   "source": [
    "\n",
    "f, ax = plt.subplots(nrows=2, ncols=2)\n",
    "\n",
    "ax[0, 0].hist(v[0][::3], bins=30)\n",
    "ax[1, 0].hist(v[0][1::3], bins=30)\n",
    "ax[0, 1].hist(v[0][2::3], bins=30)\n",
    "plt.show()"
   ]
  },
  {
   "cell_type": "code",
   "execution_count": 19,
   "metadata": {},
   "outputs": [
    {
     "name": "stdout",
     "output_type": "stream",
     "text": [
      "1.324539155460562 0.5000000000000006 0.5000000000000006\n"
     ]
    }
   ],
   "source": [
    "vel = np.genfromtxt(\"vel_dist_a.txt\", delimiter=\" \")\n",
    "vel = vel.flatten()\n",
    "\n",
    "k = []\n",
    "for i in range(len(vel)):\n",
    "    if i%4 != 3:\n",
    "        k.append(vel[i])\n",
    "\n",
    "T = temp(np.array(k))\n",
    "\n",
    "\n",
    "\n",
    "print(T, temp(v[0]), v[2][-1])"
   ]
  },
  {
   "cell_type": "code",
   "execution_count": 20,
   "metadata": {},
   "outputs": [
    {
     "data": {
      "text/plain": [
       "[<matplotlib.lines.Line2D at 0x13b80abd5b0>]"
      ]
     },
     "execution_count": 20,
     "metadata": {},
     "output_type": "execute_result"
    },
    {
     "data": {
      "image/png": "[encoded data removed]",
      "text/plain": [
       "<Figure size 432x288 with 1 Axes>"
      ]
     },
     "metadata": {
      "needs_background": "light"
     },
     "output_type": "display_data"
    }
   ],
   "source": [
    "tempf = np.genfromtxt(\"temp_f.txt\", delimiter=\" \")\n",
    "\n",
    "plt.plot(tempf[:, 0], tempf[:, 1])"
   ]
  },
  {
   "cell_type": "code",
   "execution_count": 21,
   "metadata": {},
   "outputs": [
    {
     "data": {
      "text/plain": [
       "<matplotlib.legend.Legend at 0x13bffdad700>"
      ]
     },
     "execution_count": 21,
     "metadata": {},
     "output_type": "execute_result"
    },
    {
     "data": {
      "image/png": "[encoded data removed]",
      "text/plain": [
       "<Figure size 432x288 with 1 Axes>"
      ]
     },
     "metadata": {
      "needs_background": "light"
     },
     "output_type": "display_data"
    }
   ],
   "source": [
    "\n",
    "\n",
    "plt.hist(v[0][::3], bins=30, density=True, label=\"py\")\n",
    "plt.hist(vel[::4], bins=30, density=True, label=\"nopy\")\n",
    "plt.legend()"
   ]
  },
  {
   "cell_type": "code",
   "execution_count": 37,
   "metadata": {},
   "outputs": [
    {
     "name": "stdout",
     "output_type": "stream",
     "text": [
      "3.6415315207705135e-14\n",
      "9.343999987088125e-07\n"
     ]
    }
   ],
   "source": [
    "print(np.sum(v[0][::3]))\n",
    "print(np.sum(vel[::4]))"
   ]
  },
  {
   "cell_type": "code",
   "execution_count": 38,
   "metadata": {},
   "outputs": [
    {
     "name": "stdout",
     "output_type": "stream",
     "text": [
      "3.4794141109656915\n",
      "1.3245391554605592\n"
     ]
    }
   ],
   "source": [
    "def temp1(vel):\n",
    "    t = 0\n",
    "    for i in range(N):\n",
    "        for k in range(3):\n",
    "            t+=vel[3*i+k]**2\n",
    "    return mass * t / (3 * N)\n",
    "\n",
    "print(temp1(v[0]))\n",
    "print(temp1(k))"
   ]
  },
  {
   "cell_type": "code",
   "execution_count": 23,
   "metadata": {},
   "outputs": [
    {
     "name": "stdout",
     "output_type": "stream",
     "text": [
      "1.7320508075688772 1.7320508075688772\n"
     ]
    }
   ],
   "source": [
    "a = np.array([1, 1, 1])\n",
    "\n",
    "print(np.linalg.norm(a), np.sqrt(3))"
   ]
  },
  {
   "cell_type": "code",
   "execution_count": null,
   "metadata": {},
   "outputs": [],
   "source": []
  }
 ],
 "metadata": {
  "kernelspec": {
   "display_name": "Python 3.10.6 64-bit",
   "language": "python",
   "name": "python3"
  },
  "language_info": {
   "codemirror_mode": {
    "name": "ipython",
    "version": 3
   },
   "file_extension": ".py",
   "mimetype": "text/x-python",
   "name": "python",
   "nbconvert_exporter": "python",
   "pygments_lexer": "ipython3",
   "version": "3.10.6"
  },
  "orig_nbformat": 4,
  "vscode": {
   "interpreter": {
    "hash": "31f2aee4e71d21fbe5cf8b01ff0e069b9275f58929596ceb00d14d90e3e16cd6"
   }
  }
 },
 "nbformat": 4,
 "nbformat_minor": 2
}
